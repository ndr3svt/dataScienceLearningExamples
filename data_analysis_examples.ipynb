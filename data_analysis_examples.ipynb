{
 "cells": [
  {
   "cell_type": "markdown",
   "metadata": {},
   "source": [
    "# Data Analysis and Visualization Examples\n",
    "\n",
    "This notebook demonstrates common data analysis and visualization techniques using Python libraries including Pandas, Seaborn, and Matplotlib."
   ]
  },
  {
   "cell_type": "code",
   "metadata": {},
   "execution_count": null,
   "outputs": [],
   "source": [
    "# Import required libraries\n",
    "import pandas as pd\n",
    "import numpy as np\n",
    "import seaborn as sns\n",
    "import matplotlib.pyplot as plt\n",
    "\n",
    "# Set style and seed\n",
    "sns.set(style=\"whitegrid\")\n",
    "np.random.seed(1)"
   ]
  },
  {
   "cell_type": "markdown",
   "metadata": {},
   "source": [
    "## 1. Working with DataFrames\n",
    "\n",
    "Let's start by creating a simple DataFrame with categorical data:"
   ]
  },
  {
   "cell_type": "code",
   "metadata": {},
   "execution_count": null,
   "outputs": [],
   "source": [
    "# Create sample DataFrame\n",
    "data = {\n",
    "    'ID': [101, 102, 103, 104, 105],\n",
    "    'Category': ['Apple', 'Banana', 'Apple', 'Orange', 'Banana'],\n",
    "    'Score': [88, 92, 85, 90, 87]\n",
    "}\n",
    "\n",
    "df = pd.DataFrame(data)\n",
    "print(\"Original DataFrame:\")\n",
    "print(df)"
   ]
  },
  {
   "cell_type": "markdown",
   "metadata": {},
   "source": [
    "### Categorical Data Operations"
   ]
  },
  {
   "cell_type": "code",
   "metadata": {},
   "execution_count": null,
   "outputs": [],
   "source": [
    "# Convert to categorical\n",
    "df['Category'] = df['Category'].astype('category')\n",
    "\n",
    "# Show categories\n",
    "print(\"Categories:\", df['Category'].cat.categories)\n",
    "\n",
    "# Show value counts\n",
    "print(\"\\nCategory Counts:\")\n",
    "print(df['Category'].value_counts())"
   ]
  },
  {
   "cell_type": "markdown",
   "metadata": {},
   "source": [
    "## 2. Data Joining Example\n",
    "\n",
    "Demonstrating a full outer join between two DataFrames:"
   ]
  },
  {
   "cell_type": "code",
   "metadata": {},
   "execution_count": null,
   "outputs": [],
   "source": [
    "# Create two sample DataFrames\n",
    "df1 = pd.DataFrame({\n",
    "    'key': ['A', 'B', 'C'],\n",
    "    'val1': [1, 2, 3]\n",
    "})\n",
    "\n",
    "df2 = pd.DataFrame({\n",
    "    'key': ['B', 'C', 'D'],\n",
    "    'val2': [4, 5, 6]\n",
    "})\n",
    "\n",
    "# Perform full outer join\n",
    "result = pd.merge(df1, df2, on='key', how='outer')\n",
    "print(\"Full Outer Join Result:\")\n",
    "print(result)"
   ]
  },
  {
   "cell_type": "markdown",
   "metadata": {},
   "source": [
    "## 3. Visualization Examples\n",
    "\n",
    "### Auto Data Visualizations"
   ]
  },
  {
   "cell_type": "code",
   "metadata": {},
   "execution_count": null,
   "outputs": [],
   "source": [
    "# Create sample auto data\n",
    "auto = pd.DataFrame({\n",
    "    'disp': np.random.uniform(100, 300, 100),\n",
    "    'acc': np.random.uniform(10, 30, 100)\n",
    "})\n",
    "\n",
    "# Create pairplot\n",
    "sns.pairplot(auto[['disp', 'acc']])\n",
    "plt.suptitle(\"Pairplot: Displacement vs Acceleration\", y=1.02)\n",
    "plt.show()"
   ]
  },
  {
   "cell_type": "markdown",
   "metadata": {},
   "source": [
    "### Box Plot Example"
   ]
  },
  {
   "cell_type": "code",
   "metadata": {},
   "execution_count": null,
   "outputs": [],
   "source": [
    "# Create data for boxplot\n",
    "years = list(range(70, 80))\n",
    "data = {\n",
    "    'yr': [year for year in years for _ in range(50)],\n",
    "    'cyl': [4,6,8]*167\n",
    "}\n",
    "auto_box = pd.DataFrame(data)\n",
    "\n",
    "plt.figure(figsize=(12, 6))\n",
    "sns.boxplot(x='yr', y='cyl', data=auto_box)\n",
    "plt.title('Distribution of Cylinders by Year')\n",
    "plt.xlabel('Year')\n",
    "plt.ylabel('Number of Cylinders')\n",
    "plt.show()"
   ]
  },
  {
   "cell_type": "markdown",
   "metadata": {},
   "source": [
    "### Strip Plot Example"
   ]
  },
  {
   "cell_type": "code",
   "metadata": {},
   "execution_count": null,
   "outputs": [],
   "source": [
    "# Create data for stripplot\n",
    "data = {\n",
    "    'wt': [2500 + i*10 for i in range(500)],\n",
    "    'cyl': [4]*200 + [6]*150 + [8]*100 + [3]*30 + [5]*20\n",
    "}\n",
    "auto_strip = pd.DataFrame(data)\n",
    "\n",
    "plt.figure(figsize=(12, 6))\n",
    "sns.stripplot(x='wt', y='cyl', data=auto_strip)\n",
    "plt.title('Car Weight by Number of Cylinders')\n",
    "plt.xlabel('Weight')\n",
    "plt.ylabel('Number of Cylinders')\n",
    "plt.show()"
   ]
  },
  {
   "cell_type": "markdown",
   "metadata": {},
   "source": [
    "### Histogram Example"
   ]
  },
  {
   "cell_type": "code",
   "metadata": {},
   "execution_count": null,
   "outputs": [],
   "source": [
    "# Create histogram\n",
    "auto_melt = auto[['disp', 'acc']].melt(var_name='variable', value_name='value')\n",
    "\n",
    "plt.figure()\n",
    "sns.histplot(data=auto_melt, x='value', hue='variable', multiple='dodge', bins=20)\n",
    "plt.title(\"Distribution of Displacement and Acceleration\")\n",
    "plt.show()"
   ]
  }
 ],
 "metadata": {
  "kernelspec": {
   "display_name": "Python 3",
   "language": "python",
   "name": "python3"
  },
  "language_info": {
   "codemirror_mode": {
    "name": "ipython",
    "version": 3
   },
   "file_extension": ".py",
   "mimetype": "text/x-python",
   "name": "python",
   "nbconvert_exporter": "python",
   "pygments_lexer": "ipython3",
   "version": "3.8.0"
  }
 },
 "nbformat": 4,
 "nbformat_minor": 4
}